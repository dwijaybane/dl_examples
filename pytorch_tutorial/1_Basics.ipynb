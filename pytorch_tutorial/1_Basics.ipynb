{
 "cells": [
  {
   "cell_type": "code",
   "execution_count": 12,
   "metadata": {},
   "outputs": [],
   "source": [
    "import torch\n",
    "from IPython.core.debugger import set_trace"
   ]
  },
  {
   "cell_type": "markdown",
   "metadata": {},
   "source": [
    "### Tracing Basics "
   ]
  },
  {
   "cell_type": "code",
   "execution_count": 28,
   "metadata": {},
   "outputs": [
    {
     "name": "stdout",
     "output_type": "stream",
     "text": [
      "if branch x: tensor(-2., requires_grad=True)\n",
      "val:  -0.0\n",
      "grad:  0.0\n"
     ]
    }
   ],
   "source": [
    "def my_relu(x: torch.FloatTensor) -> torch.FloatTensor:\n",
    "#     set_trace() \n",
    "    if x < 0:\n",
    "        print('if branch x:', x)\n",
    "        return x * 0\n",
    "    return x\n",
    "\n",
    "x = torch.tensor(-2., requires_grad=True)\n",
    "\n",
    "res = my_relu(x)\n",
    "res.backward()\n",
    "\n",
    "print('val: ',res.item())\n",
    "print('grad: ',x.grad.item())"
   ]
  },
  {
   "cell_type": "markdown",
   "metadata": {},
   "source": [
    "### Tensors and GPU"
   ]
  },
  {
   "cell_type": "code",
   "execution_count": 31,
   "metadata": {},
   "outputs": [
    {
     "data": {
      "text/plain": [
       "torch.Size([3, 3])"
      ]
     },
     "execution_count": 31,
     "metadata": {},
     "output_type": "execute_result"
    }
   ],
   "source": [
    "a = torch.rand(3,3)\n",
    "a.shape"
   ]
  },
  {
   "cell_type": "code",
   "execution_count": 33,
   "metadata": {},
   "outputs": [
    {
     "data": {
      "text/plain": [
       "tensor([[1.3346, 1.8376, 0.9870],\n",
       "        [1.7223, 2.4487, 1.2176],\n",
       "        [1.5101, 0.8725, 1.4726]])"
      ]
     },
     "execution_count": 33,
     "metadata": {},
     "output_type": "execute_result"
    }
   ],
   "source": [
    "a + a @ a.t()"
   ]
  },
  {
   "cell_type": "code",
   "execution_count": 34,
   "metadata": {},
   "outputs": [
    {
     "data": {
      "text/plain": [
       "tensor([[1.3346, 1.8376, 0.9870],\n",
       "        [1.7223, 2.4487, 1.2176],\n",
       "        [1.5101, 0.8725, 1.4726]], device='cuda:0')"
      ]
     },
     "execution_count": 34,
     "metadata": {},
     "output_type": "execute_result"
    }
   ],
   "source": [
    "cuda = torch.device('cuda')\n",
    "a = a.to(cuda)\n",
    "a + a @ a.t() # Operation on GPU"
   ]
  },
  {
   "cell_type": "code",
   "execution_count": 37,
   "metadata": {},
   "outputs": [
    {
     "data": {
      "text/plain": [
       "tensor([[0.4766, 0.7130, 0.3498],\n",
       "        [0.5977, 0.9711, 0.4211],\n",
       "        [0.8729, 0.0760, 0.4772]])"
      ]
     },
     "execution_count": 37,
     "metadata": {},
     "output_type": "execute_result"
    }
   ],
   "source": [
    "a.cpu() #a.cuda()"
   ]
  },
  {
   "cell_type": "markdown",
   "metadata": {},
   "source": [
    "## torch autograd"
   ]
  },
  {
   "cell_type": "code",
   "execution_count": 19,
   "metadata": {},
   "outputs": [
    {
     "name": "stdout",
     "output_type": "stream",
     "text": [
      "tensor([0.2507, 0.9057, 0.8503], requires_grad=True)\n",
      "tensor([2.2507, 2.9057, 2.8503], grad_fn=<AddBackward0>)\n",
      "tensor([10.1316, 16.8861, 16.2487], grad_fn=<MulBackward0>)\n",
      "tensor(14.4221, grad_fn=<MeanBackward0>)\n",
      "tensor([3.0010, 3.8743, 3.8004])\n"
     ]
    }
   ],
   "source": [
    "# lets say you want gradient of some function w.r.t x then set requires_grad=True\n",
    "x = torch.rand(3, requires_grad=True)\n",
    "print(x)\n",
    "\n",
    "# Pytorch builds computation graph in grad_fn\n",
    "y = x + 2\n",
    "print(y)\n",
    "\n",
    "# lets add more computation on top of it\n",
    "z = y*y*2\n",
    "print(z)\n",
    "\n",
    "# At he end apply mean operation to get scalar value\n",
    "z = z.mean()\n",
    "print(z)\n",
    "# Now to calculate gradient dz/dx\n",
    "z.backward()\n",
    "# Gradient for x are stored in x.grad attribute\n",
    "print(x.grad)"
   ]
  },
  {
   "cell_type": "code",
   "execution_count": 7,
   "metadata": {},
   "outputs": [
    {
     "name": "stdout",
     "output_type": "stream",
     "text": [
      "tensor([0.1876, 0.8791, 0.2681], requires_grad=True)\n",
      "tensor([2.1876, 2.8791, 2.2681], grad_fn=<AddBackward0>)\n",
      "tensor([ 9.5712, 16.5780, 10.2889], grad_fn=<MulBackward0>)\n",
      "tensor([8.7504e-01, 1.1516e+01, 9.0725e-03])\n"
     ]
    }
   ],
   "source": [
    "# lets say you want gradient of some function w.r.t x then set requires_grad=True\n",
    "x = torch.rand(3, requires_grad=True)\n",
    "print(x)\n",
    "\n",
    "# Pytorch builds computation graph in grad_fn\n",
    "y = x + 2\n",
    "print(y)\n",
    "\n",
    "# lets add more computation on top of it\n",
    "z = y*y*2\n",
    "print(z)\n",
    "\n",
    "# If you dont have scaler output then you have to provide vector to backward function\n",
    "# z = z.mean() \n",
    "# print(z)\n",
    "\n",
    "# Now to calculate gradient dz/dx\n",
    "# Remember partial derivatives are stored in jacobian matrix \n",
    "# and its multiplied with gradient vector (J.v) to get final gradient\n",
    "v = torch.tensor([0.1, 1.0, 0.001], dtype=torch.float32)\n",
    "z.backward(v)\n",
    "# Gradient for x are stored in x.grad attribute\n",
    "print(x.grad)"
   ]
  },
  {
   "cell_type": "markdown",
   "metadata": {},
   "source": [
    "### Make sure to clear gradient"
   ]
  },
  {
   "cell_type": "code",
   "execution_count": 11,
   "metadata": {},
   "outputs": [
    {
     "name": "stdout",
     "output_type": "stream",
     "text": [
      "tensor([3., 3., 3., 3.])\n",
      "tensor([3., 3., 3., 3.])\n",
      "tensor([3., 3., 3., 3.])\n"
     ]
    }
   ],
   "source": [
    "# Lets create dummy training to show accumulation of gradient if you run in loop\n",
    "weights = torch.ones(4, requires_grad=True)\n",
    "\n",
    "for epoch in range(3):\n",
    "    model_output = (weights*3).sum()\n",
    "    \n",
    "    model_output.backward()\n",
    "    \n",
    "    # It is problematic when gradient accumulates\n",
    "    print(weights.grad)\n",
    "    \n",
    "    # Uncomment below line to clear the gradient before optimization\n",
    "    weights.grad.zero_()"
   ]
  },
  {
   "cell_type": "code",
   "execution_count": null,
   "metadata": {},
   "outputs": [],
   "source": []
  }
 ],
 "metadata": {
  "kernelspec": {
   "display_name": "Python 3",
   "language": "python",
   "name": "python3"
  },
  "language_info": {
   "codemirror_mode": {
    "name": "ipython",
    "version": 3
   },
   "file_extension": ".py",
   "mimetype": "text/x-python",
   "name": "python",
   "nbconvert_exporter": "python",
   "pygments_lexer": "ipython3",
   "version": "3.7.6"
  }
 },
 "nbformat": 4,
 "nbformat_minor": 4
}
