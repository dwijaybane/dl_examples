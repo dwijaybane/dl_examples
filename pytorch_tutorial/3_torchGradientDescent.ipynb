{
 "cells": [
  {
   "cell_type": "code",
   "execution_count": 1,
   "metadata": {},
   "outputs": [],
   "source": [
    "import torch\n",
    "import numpy as np\n",
    "from IPython.core.debugger import set_trace"
   ]
  },
  {
   "cell_type": "code",
   "execution_count": 4,
   "metadata": {},
   "outputs": [],
   "source": [
    "X = torch.tensor([1,2,3,4], dtype=torch.float32)\n",
    "# f = 2 * x\n",
    "Y = torch.tensor([2,4,6,8], dtype=torch.float32)\n",
    "\n",
    "w = torch.tensor(0.0, dtype=torch.float32, requires_grad=True)"
   ]
  },
  {
   "cell_type": "code",
   "execution_count": 5,
   "metadata": {},
   "outputs": [],
   "source": [
    "def forward(x):\n",
    "    return w * x"
   ]
  },
  {
   "cell_type": "code",
   "execution_count": 6,
   "metadata": {},
   "outputs": [],
   "source": [
    "def loss(y,y_predicted):\n",
    "    return ((y_predicted - y)**2).mean()"
   ]
  },
  {
   "cell_type": "code",
   "execution_count": 9,
   "metadata": {},
   "outputs": [
    {
     "name": "stdout",
     "output_type": "stream",
     "text": [
      "epoch 1: w = 1.997, loss = 0.00006770\n",
      "epoch 2: w = 1.998, loss = 0.00004891\n",
      "epoch 3: w = 1.998, loss = 0.00003534\n",
      "epoch 4: w = 1.998, loss = 0.00002553\n",
      "epoch 5: w = 1.999, loss = 0.00001845\n",
      "epoch 6: w = 1.999, loss = 0.00001333\n",
      "epoch 7: w = 1.999, loss = 0.00000963\n",
      "epoch 8: w = 1.999, loss = 0.00000696\n",
      "epoch 9: w = 1.999, loss = 0.00000503\n",
      "epoch 10: w = 1.999, loss = 0.00000363\n",
      "epoch 11: w = 1.999, loss = 0.00000262\n",
      "epoch 12: w = 2.000, loss = 0.00000190\n",
      "epoch 13: w = 2.000, loss = 0.00000137\n",
      "epoch 14: w = 2.000, loss = 0.00000099\n",
      "epoch 15: w = 2.000, loss = 0.00000071\n",
      "epoch 16: w = 2.000, loss = 0.00000052\n",
      "epoch 17: w = 2.000, loss = 0.00000037\n",
      "epoch 18: w = 2.000, loss = 0.00000027\n",
      "epoch 19: w = 2.000, loss = 0.00000019\n",
      "epoch 20: w = 2.000, loss = 0.00000014\n"
     ]
    }
   ],
   "source": [
    "# Training\n",
    "learning_rate = 0.01\n",
    "n_iters = 60\n",
    "\n",
    "for epoch in range(n_iters):\n",
    "    # prediction\n",
    "    y_pred = forward(X)\n",
    "    \n",
    "    # loss\n",
    "    l = loss(Y, y_pred)\n",
    "    \n",
    "    # gradients dl/dw\n",
    "    l.backward()\n",
    "    \n",
    "    # update weights\n",
    "    with torch.no_grad():\n",
    "        w -= learning_rate * w.grad\n",
    "        \n",
    "    # zero gradient\n",
    "    w.grad.zero_()\n",
    "    \n",
    "    print(f'epoch {epoch+1}: w = {w:.3f}, loss = {l:.8f}')"
   ]
  },
  {
   "cell_type": "code",
   "execution_count": 10,
   "metadata": {},
   "outputs": [
    {
     "name": "stdout",
     "output_type": "stream",
     "text": [
      "tensor(9.9994, grad_fn=<MulBackward0>)\n"
     ]
    }
   ],
   "source": [
    "print(forward(5))"
   ]
  },
  {
   "cell_type": "code",
   "execution_count": null,
   "metadata": {},
   "outputs": [],
   "source": []
  }
 ],
 "metadata": {
  "kernelspec": {
   "display_name": "Python 3",
   "language": "python",
   "name": "python3"
  },
  "language_info": {
   "codemirror_mode": {
    "name": "ipython",
    "version": 3
   },
   "file_extension": ".py",
   "mimetype": "text/x-python",
   "name": "python",
   "nbconvert_exporter": "python",
   "pygments_lexer": "ipython3",
   "version": "3.6.9"
  }
 },
 "nbformat": 4,
 "nbformat_minor": 4
}
