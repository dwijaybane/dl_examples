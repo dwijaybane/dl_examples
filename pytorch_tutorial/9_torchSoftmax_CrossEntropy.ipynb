{
 "cells": [
  {
   "cell_type": "code",
   "execution_count": 1,
   "metadata": {},
   "outputs": [],
   "source": [
    "import numpy as np\n",
    "import torch\n",
    "import torch.nn as nn"
   ]
  },
  {
   "cell_type": "markdown",
   "metadata": {},
   "source": [
    "## Softmax\n",
    "\n",
    "- It returns probabilities for values. Also Sum of all probabilities equals to 1.\n",
    "\n",
    "$\\Large S(y_i)=\\frac{e^{y_i}}{\\sum{e^{y_j}}} $"
   ]
  },
  {
   "cell_type": "code",
   "execution_count": 2,
   "metadata": {},
   "outputs": [],
   "source": [
    "def softmax(x):\n",
    "    return np.exp(x) / np.sum(np.exp(x), axis=0)"
   ]
  },
  {
   "cell_type": "code",
   "execution_count": 3,
   "metadata": {},
   "outputs": [
    {
     "name": "stdout",
     "output_type": "stream",
     "text": [
      "[0.65900114 0.24243297 0.09856589]\n"
     ]
    }
   ],
   "source": [
    "x = np.array([2.0, 1.0, 0.1])\n",
    "print(softmax(x))"
   ]
  },
  {
   "cell_type": "code",
   "execution_count": 4,
   "metadata": {},
   "outputs": [
    {
     "name": "stdout",
     "output_type": "stream",
     "text": [
      "tensor([0.6590, 0.2424, 0.0986])\n"
     ]
    }
   ],
   "source": [
    "# Using torch\n",
    "x = torch.tensor([2.0, 1.0, 0.1])\n",
    "print(torch.softmax(x, dim=0))"
   ]
  },
  {
   "cell_type": "code",
   "execution_count": null,
   "metadata": {},
   "outputs": [],
   "source": []
  },
  {
   "cell_type": "markdown",
   "metadata": {},
   "source": [
    "## Cross Entropy\n",
    "\n",
    "$\\large D(\\hat{Y}, Y) = -\\frac{1}{N} \\cdot \\sum{Y_i \\cdot log(\\hat{Y_i})} $\n",
    "\n",
    "Here $Y_i$ is one-hot encoded and $\\hat{Y_i}$ is softmax output.\n",
    "\n",
    "$\\large \\begin{matrix}\n",
    "  Y_i = [1, 0, 0] \\\\\n",
    "  \\hat{Y_i} = [0.7, 0.2, 0.1]\n",
    " \\end{matrix} \\rightarrow  D(\\hat{Y}, Y) = \\color{green}{0.35}$\n",
    " \n",
    "$\\large \\begin{matrix}\n",
    "  Y_i = [1, 0, 0] \\\\\n",
    "  \\hat{Y_i} = [0.1, 0.3, 0.6]\n",
    " \\end{matrix} \\rightarrow  D(\\hat{Y}, Y) = \\color{red}{2.30}$"
   ]
  },
  {
   "cell_type": "code",
   "execution_count": 5,
   "metadata": {},
   "outputs": [],
   "source": [
    "def cross_entropy(actual, predicted):\n",
    "    loss = -np.sum(actual * np.log(predicted))\n",
    "    return loss # /float(predicted.shape[0])"
   ]
  },
  {
   "cell_type": "code",
   "execution_count": 6,
   "metadata": {},
   "outputs": [
    {
     "name": "stdout",
     "output_type": "stream",
     "text": [
      "0.35667494393873245 2.3025850929940455\n"
     ]
    }
   ],
   "source": [
    "# y must be one hot encoded\n",
    "# if class 0: [1, 0, 0]\n",
    "# if class 1: [1, 1, 0]\n",
    "# if class 2: [1, 0, 1]\n",
    "Y = np.array([1, 0, 0])\n",
    "\n",
    "# y_pred has probabilities\n",
    "Y_pred_good = np.array([0.7, 0.2, 0.1])\n",
    "Y_pred_bad = np.array([0.1, 0.3, 0.6])\n",
    "\n",
    "l1 = cross_entropy(Y, Y_pred_good)\n",
    "l2 = cross_entropy(Y, Y_pred_bad)\n",
    "\n",
    "print(l1, l2)"
   ]
  },
  {
   "cell_type": "code",
   "execution_count": 11,
   "metadata": {},
   "outputs": [
    {
     "name": "stdout",
     "output_type": "stream",
     "text": [
      "1.840616226196289 2.3025850929940455\n",
      "0 1\n"
     ]
    }
   ],
   "source": [
    "# Using torch\n",
    "# nn.CrossEntropyLoss applies nn.LogSoftmax + nn.LLLoss\n",
    "# So no softmax layer also no one-hot encoding, provide class labels directly\n",
    "\n",
    "loss = nn.CrossEntropyLoss()\n",
    "\n",
    "# Class 0\n",
    "Y = torch.tensor([0])\n",
    "# nsamples x nclasses = 1x3, Also raw values, no softmax\n",
    "Y_pred_good = torch.tensor([[2.0, 1.0, 0.1]])\n",
    "Y_pred_bad = torch.tensor([[0.5, 2.0, 0.3]])\n",
    "\n",
    "l1 = loss(Y_pred_good, Y)\n",
    "l1 = loss(Y_pred_bad, Y)\n",
    "\n",
    "print(l1.item(), l2.item())\n",
    "\n",
    "\n",
    "# To get prediction we take max value in output\n",
    "_, prediction1 = torch.max(Y_pred_good, dim=1)\n",
    "_, prediction2 = torch.max(Y_pred_bad, dim=1)\n",
    "\n",
    "print(prediction1.item(), prediction2.item())"
   ]
  },
  {
   "cell_type": "code",
   "execution_count": 13,
   "metadata": {},
   "outputs": [
    {
     "name": "stdout",
     "output_type": "stream",
     "text": [
      "1.6258946657180786 2.3025850929940455\n",
      "tensor([2, 0, 1]) tensor([0, 2, 1])\n"
     ]
    }
   ],
   "source": [
    "# More Samples\n",
    "loss = nn.CrossEntropyLoss()\n",
    "\n",
    "# Class 0\n",
    "Y = torch.tensor([2, 0, 1])\n",
    "# nsamples x nclasses = 1x3, Also raw values, no softmax\n",
    "Y_pred_good = torch.tensor([[0.1, 1.0, 2.1], [2.0, 1.0, 0.1], [0.2, 3.0, 0.1]])\n",
    "Y_pred_bad = torch.tensor([[2.1, 1.0, 0.1], [0.1, 1.0, 2.1], [0.2, 3.0, 0.1]])\n",
    "\n",
    "l1 = loss(Y_pred_good, Y)\n",
    "l1 = loss(Y_pred_bad, Y)\n",
    "\n",
    "print(l1.item(), l2.item())\n",
    "\n",
    "\n",
    "# To get prediction we take max value in output\n",
    "_, prediction1 = torch.max(Y_pred_good, dim=1)\n",
    "_, prediction2 = torch.max(Y_pred_bad, dim=1)\n",
    "\n",
    "print(prediction1, prediction2)"
   ]
  },
  {
   "cell_type": "code",
   "execution_count": 3,
   "metadata": {},
   "outputs": [],
   "source": [
    "# Binary Classification\n",
    "class NeuralNet1(nn.Module):\n",
    "    def __init__(self, input_size, hidden_size):\n",
    "        super(NeuralNet1, self).__init__()\n",
    "        self.linear1 = nn.Linear(input_size, hidden_size)\n",
    "        self.relu = nn.ReLU()\n",
    "        self.linear2 = nn.Linear(hidden_size, 1)\n",
    "        \n",
    "    def forward(self, x):\n",
    "        out = self.linear1(x)\n",
    "        out = self.relu(out)\n",
    "        out = self.linear2(out)\n",
    "        # Sigmoid before BCELoss\n",
    "        y_pred = torch.sigmoid(out)\n",
    "        return y_pred"
   ]
  },
  {
   "cell_type": "code",
   "execution_count": null,
   "metadata": {},
   "outputs": [],
   "source": [
    "model = NeuralNet1(input_size=28*28, hidden_size=5)\n",
    "criterion = nn.BCELoss()"
   ]
  },
  {
   "cell_type": "code",
   "execution_count": 2,
   "metadata": {},
   "outputs": [],
   "source": [
    "# Multiclass Neural Network\n",
    "class NeuralNet2(nn.Module):\n",
    "    def __init__(self, input_size, hidden_size, num_classes):\n",
    "        super(NeuralNet2, self).__init__()\n",
    "        self.linear1 = nn.Linear(input_size, hidden_size)\n",
    "        self.relu = nn.ReLU()\n",
    "        self.linear2 = nn.Linear(hidden_size, num_classes)\n",
    "        \n",
    "    def forward(self, x):\n",
    "        out = self.linear1(x)\n",
    "        out = self.relu(out)\n",
    "        out = self.linear2(out)\n",
    "        # no softmax at the end\n",
    "        return out\n"
   ]
  },
  {
   "cell_type": "code",
   "execution_count": null,
   "metadata": {},
   "outputs": [],
   "source": [
    "model = NeuralNet2(input_size=28*28, hidden_size=5, num_classes=3)\n",
    "criterion = nn.CrossEntropyLoss() # applies softmax"
   ]
  }
 ],
 "metadata": {
  "kernelspec": {
   "display_name": "Python 3",
   "language": "python",
   "name": "python3"
  },
  "language_info": {
   "codemirror_mode": {
    "name": "ipython",
    "version": 3
   },
   "file_extension": ".py",
   "mimetype": "text/x-python",
   "name": "python",
   "nbconvert_exporter": "python",
   "pygments_lexer": "ipython3",
   "version": "3.7.6"
  }
 },
 "nbformat": 4,
 "nbformat_minor": 4
}
